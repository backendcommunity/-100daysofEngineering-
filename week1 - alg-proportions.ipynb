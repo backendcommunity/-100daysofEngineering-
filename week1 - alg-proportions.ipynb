{
  "nbformat": 4,
  "nbformat_minor": 0,
  "metadata": {
    "colab": {
      "provenance": [],
      "toc_visible": true,
      "authorship_tag": "ABX9TyNNvlqlbOGmZYpnvw4CX0J2",
      "include_colab_link": true
    },
    "kernelspec": {
      "name": "python3",
      "display_name": "Python 3"
    },
    "language_info": {
      "name": "python"
    }
  },
  "cells": [
    {
      "cell_type": "markdown",
      "metadata": {
        "id": "view-in-github",
        "colab_type": "text"
      },
      "source": [
        "<a href=\"https://colab.research.google.com/github/kihuni/100daysofEngineering/blob/main/week1%20-%20alg-proportions.ipynb\" target=\"_parent\"><img src=\"https://colab.research.google.com/assets/colab-badge.svg\" alt=\"Open In Colab\"/></a>"
      ]
    },
    {
      "cell_type": "markdown",
      "source": [
        "\n"
      ],
      "metadata": {
        "id": "FSe9-Pg9u7_8"
      }
    },
    {
      "cell_type": "code",
      "execution_count": 4,
      "metadata": {
        "colab": {
          "base_uri": "https://localhost:8080/"
        },
        "id": "z7eEUHzEnm0U",
        "outputId": "870dadb3-7f14-43e2-ddd9-7d958477998e"
      },
      "outputs": [
        {
          "output_type": "stream",
          "name": "stdout",
          "text": [
            "n2 = 8.0\n"
          ]
        }
      ],
      "source": [
        "# Put a zero in for the unknown value\n",
        "\n",
        "n1 = 1\n",
        "d1 = 2\n",
        "n2 = 0\n",
        "d2 = 16\n",
        "\n",
        "if n2 == 0:\n",
        "    answer = d2 * n1/ d1\n",
        "    print(f\"n2 =\", answer)"
      ]
    }
  ]
}